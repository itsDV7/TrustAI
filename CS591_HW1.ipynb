{
  "cells": [
    {
      "cell_type": "markdown",
      "metadata": {
        "id": "Whsg1XX_OZs6"
      },
      "source": [
        "# Boilerplate\n",
        "\n",
        "Packae installation, loading, and dataloaders. There's also a simple model defined. You can change it your favourite architecture if you want."
      ]
    },
    {
      "cell_type": "code",
      "execution_count": null,
      "metadata": {
        "id": "R1domTvnONqD"
      },
      "outputs": [],
      "source": [
        "!pip install tensorboardX\n",
        "\n",
        "import torch\n",
        "import torch.nn as nn\n",
        "import torch.optim as optim\n",
        "import torch.nn.functional as F\n",
        "import numpy as np\n",
        "import time\n",
        "import matplotlib.pyplot as plt\n",
        "\n",
        "from torchvision import datasets, transforms\n",
        "from tensorboardX import SummaryWriter\n",
        "\n",
        "use_cuda = True\n",
        "device = torch.device(\"cuda\" if use_cuda else \"cpu\")\n",
        "batch_size = 64\n",
        "\n",
        "np.random.seed(42)\n",
        "torch.manual_seed(42)\n",
        "\n",
        "\n",
        "## Dataloaders\n",
        "train_dataset = datasets.MNIST('mnist_data/', train=True, download=True, transform=transforms.Compose(\n",
        "    [transforms.ToTensor()]\n",
        "))\n",
        "test_dataset = datasets.MNIST('mnist_data/', train=False, download=True, transform=transforms.Compose(\n",
        "    [transforms.ToTensor()]\n",
        "))\n",
        "\n",
        "train_loader = torch.utils.data.DataLoader(train_dataset, batch_size=batch_size, shuffle=True)\n",
        "test_loader = torch.utils.data.DataLoader(test_dataset, batch_size=batch_size, shuffle=False)\n",
        "\n",
        "## Simple NN. You can change this if you want. If you change it, mention the architectural details in your report.\n",
        "class Net(nn.Module):\n",
        "    def __init__(self):\n",
        "        super(Net, self).__init__()\n",
        "        self.fc = nn.Linear(28*28, 200)\n",
        "        self.fc2 = nn.Linear(200,10)\n",
        "\n",
        "    def forward(self, x):\n",
        "        x = x.view((-1, 28*28))\n",
        "        x = F.relu(self.fc(x))\n",
        "        x = self.fc2(x)\n",
        "        return x\n",
        "\n",
        "class Normalize(nn.Module):\n",
        "    def forward(self, x):\n",
        "        return (x - 0.1307)/0.3081\n",
        "\n",
        "# Add the data normalization as a first \"layer\" to the network\n",
        "# this allows us to search for adverserial examples to the real image, rather than\n",
        "# to the normalized image\n",
        "model = nn.Sequential(Normalize(), Net())\n",
        "\n",
        "model = model.to(device)\n",
        "model.train()"
      ]
    },
    {
      "cell_type": "markdown",
      "metadata": {
        "id": "NCmWfZHTO8Oo"
      },
      "source": [
        "# Implement the Attacks\n",
        "\n",
        "Functions are given a simple useful signature that you can start with. Feel free to extend the signature as you see fit.\n",
        "\n",
        "You may find it useful to create a 'batched' version of PGD that you can use to create the adversarial attack."
      ]
    },
    {
      "cell_type": "code",
      "execution_count": null,
      "metadata": {
        "id": "EZjvA49yONqP"
      },
      "outputs": [],
      "source": [
        "import torch\n",
        "import torch.nn.functional as F\n",
        "\n",
        "def fgsm(model, x, y, eps, targeted=False):\n",
        "    model.eval()\n",
        "    x = x.clone().detach().requires_grad_(True)\n",
        "    outputs = model(x)\n",
        "    if targeted:\n",
        "        loss = -F.cross_entropy(outputs, y)\n",
        "    else:\n",
        "        loss = F.cross_entropy(outputs, y)\n",
        "    loss.backward()\n",
        "    perturbation = eps * x.grad.sign()\n",
        "    x_adv = x + perturbation\n",
        "    x_adv = torch.clamp(x_adv, 0, 1)\n",
        "\n",
        "    return x_adv.detach()\n",
        "\n",
        "def pgd_untargeted(model, x, y, k, eps, eps_step):\n",
        "    model.eval()\n",
        "    x_adv = x.clone().detach()\n",
        "    for i in range(k):\n",
        "        x_adv = fgsm(model, x_adv, y, eps_step, targeted=False)\n",
        "        delta = torch.clamp(x_adv - x, -eps, eps)\n",
        "        x_adv = torch.clamp(x + delta, 0, 1)\n",
        "\n",
        "    return x_adv.detach()"
      ]
    },
    {
      "cell_type": "markdown",
      "metadata": {
        "id": "0Mja_AB4RykO"
      },
      "source": [
        "# Implement Adversarial Training"
      ]
    },
    {
      "cell_type": "code",
      "execution_count": null,
      "metadata": {
        "id": "V-sw8yKYONqQ"
      },
      "outputs": [],
      "source": [
        "from torch.utils.data import DataLoader\n",
        "\n",
        "def train_model(model, num_epochs, enable_defense=True, attack='pgd', eps=0.1):\n",
        "    transform = transforms.Compose([transforms.ToTensor(), transforms.Normalize((0.1307,), (0.3081,))])\n",
        "    train_dataset = datasets.MNIST(root='./data', train=True, download=True, transform=transform)\n",
        "    train_loader = DataLoader(train_dataset, batch_size=64, shuffle=True)\n",
        "    criterion = nn.CrossEntropyLoss()\n",
        "    optimizer = optim.Adam(model.parameters(), lr=0.001)\n",
        "    device = torch.device(\"cuda\" if torch.cuda.is_available() else \"cpu\")\n",
        "    model.to(device)\n",
        "\n",
        "    for epoch in range(num_epochs):\n",
        "        model.train()\n",
        "        for batch_idx, (data, target) in enumerate(train_loader):\n",
        "            data, target = data.to(device), target.to(device)\n",
        "\n",
        "            if enable_defense:\n",
        "                if attack == 'pgd':\n",
        "                    data = pgd_untargeted(model, data, target, k=10, eps=eps, eps_step=eps/4)\n",
        "                elif attack == 'fgsm':\n",
        "                    data = fgsm(model, data, target, eps)\n",
        "\n",
        "            optimizer.zero_grad()\n",
        "            output = model(data)\n",
        "            loss = criterion(output, target)\n",
        "            loss.backward()\n",
        "            optimizer.step()\n",
        "\n",
        "            if batch_idx % 100 == 0:\n",
        "                print(f'Epoch {epoch+1}/{num_epochs}, Batch {batch_idx}/{len(train_loader)}, Loss: {loss.item():.4f}')\n",
        "\n",
        "    return model"
      ]
    },
    {
      "cell_type": "code",
      "source": [
        "def test_model_on_attacks(model, attack='pgd', eps=0.1):\n",
        "    transform = transforms.Compose([transforms.ToTensor(), transforms.Normalize((0.1307,), (0.3081,))])\n",
        "    test_dataset = datasets.MNIST(root='./data', train=False, download=True, transform=transform)\n",
        "    test_loader = DataLoader(test_dataset, batch_size=100, shuffle=False)\n",
        "    device = torch.device(\"cuda\" if torch.cuda.is_available() else \"cpu\")\n",
        "    model.to(device)\n",
        "    model.eval()\n",
        "\n",
        "    standard_correct = 0\n",
        "    robust_correct = 0\n",
        "    total = 0\n",
        "\n",
        "    with torch.no_grad():\n",
        "        for data, target in test_loader:\n",
        "            data, target = data.to(device), target.to(device)\n",
        "\n",
        "            standard_output = model(data)\n",
        "            _, standard_predicted = torch.max(standard_output.data, 1)\n",
        "            standard_correct += (standard_predicted == target).sum().item()\n",
        "\n",
        "            if attack == 'pgd':\n",
        "                adv_data = pgd_untargeted(model, data, target, k=10, eps=eps, eps_step=eps/4)\n",
        "            elif attack == 'fgsm':\n",
        "                adv_data = fgsm(model, data, target, eps)\n",
        "            else:\n",
        "                adv_data = data\n",
        "\n",
        "            robust_output = model(adv_data)\n",
        "            _, robust_predicted = torch.max(robust_output.data, 1)\n",
        "            robust_correct += (robust_predicted == target).sum().item()\n",
        "\n",
        "            total += target.size(0)\n",
        "\n",
        "    standard_accuracy = 100 * standard_correct / total\n",
        "    robust_accuracy = 100 * robust_correct / total\n",
        "\n",
        "    print(f'Standard Accuracy: {standard_accuracy:.2f}%')\n",
        "    print(f'Robust Accuracy under {attack.upper()} attack (eps={eps}): {robust_accuracy:.2f}%')\n",
        "\n",
        "    return standard_accuracy, robust_accuracy"
      ],
      "metadata": {
        "id": "sv3g7O4Xgx8_"
      },
      "execution_count": null,
      "outputs": []
    },
    {
      "cell_type": "markdown",
      "metadata": {
        "id": "ZPMdfEhtR3zm"
      },
      "source": [
        "# Study Accuracy, Quality, etc.\n",
        "\n",
        "Compare the various results and report your observations on the submission."
      ]
    },
    {
      "cell_type": "code",
      "source": [
        "## train the original model\n",
        "model = nn.Sequential(Normalize(), Net())\n",
        "model = model.to(device)\n",
        "model.train()\n",
        "\n",
        "train_model(model, 20, False)\n",
        "torch.save(model.state_dict(), 'weights.pt')"
      ],
      "metadata": {
        "id": "DBQVBSj7g8R7"
      },
      "execution_count": null,
      "outputs": []
    },
    {
      "cell_type": "code",
      "source": [
        "## PGD attack\n",
        "model = nn.Sequential(Normalize(), Net())\n",
        "model.load_state_dict(torch.load('weights.pt'))\n",
        "\n",
        "for eps in [0.05, 0.1, 0.15, 0.2]:\n",
        "    test_model_on_attacks(model, attack='pgd', eps=eps)"
      ],
      "metadata": {
        "id": "1sTkZcOag-3Y"
      },
      "execution_count": null,
      "outputs": []
    },
    {
      "cell_type": "code",
      "source": [
        "## PGD based adversarial training\n",
        "model = nn.Sequential(Normalize(), Net())\n",
        "eps = 0.1\n",
        "train_model(model, 20, True, 'pgd', eps)\n",
        "torch.save(model.state_dict(), f'weights_AT_{eps}.pt')"
      ],
      "metadata": {
        "id": "dScNphxhg-5z"
      },
      "execution_count": null,
      "outputs": []
    },
    {
      "cell_type": "code",
      "source": [
        "## PGD attack\n",
        "model = nn.Sequential(Normalize(), Net())\n",
        "model.load_state_dict(torch.load('weights.pt'))\n",
        "\n",
        "for eps in [0.05, 0.1, 0.15, 0.2]:\n",
        "    test_model_on_attacks(model, attack='pgd', eps=eps)"
      ],
      "metadata": {
        "id": "BzFpPjQbg-8d"
      },
      "execution_count": null,
      "outputs": []
    },
    {
      "cell_type": "code",
      "source": [
        "## FGSM attack\n",
        "model = nn.Sequential(Normalize(), Net())\n",
        "model.load_state_dict(torch.load('weights.pt'))\n",
        "\n",
        "for eps in [0.05, 0.1, 0.15, 0.2]:\n",
        "    test_model_on_attacks(model, attack='fgsm', eps=eps)"
      ],
      "metadata": {
        "id": "VVqxZ9s_hGSq"
      },
      "execution_count": null,
      "outputs": []
    },
    {
      "cell_type": "code",
      "source": [
        "## FGSM based adversarial training\n",
        "model = nn.Sequential(Normalize(), Net())\n",
        "eps = 0.1\n",
        "train_model(model, 20, True, 'fgsm', eps)\n",
        "torch.save(model.state_dict(), f'weights_AT_{eps}.pt')"
      ],
      "metadata": {
        "id": "rPHI7vRAhH-1"
      },
      "execution_count": null,
      "outputs": []
    },
    {
      "cell_type": "code",
      "source": [
        "## FGSM attack\n",
        "model = nn.Sequential(Normalize(), Net())\n",
        "model.load_state_dict(torch.load('weights.pt'))\n",
        "\n",
        "for eps in [0.05, 0.1, 0.15, 0.2]:\n",
        "    test_model_on_attacks(model, attack='fgsm', eps=eps)"
      ],
      "metadata": {
        "id": "cNKMONq0g-_V"
      },
      "execution_count": null,
      "outputs": []
    },
    {
      "cell_type": "code",
      "source": [
        "## PGD attack\n",
        "model = nn.Sequential(Normalize(), Net())\n",
        "model.load_state_dict(torch.load('weights.pt'))\n",
        "\n",
        "for eps in [0.05, 0.1, 0.15, 0.2]:\n",
        "    test_model_on_attacks(model, attack='pgd', eps=eps)"
      ],
      "metadata": {
        "id": "sV5Mgx_4g_B6"
      },
      "execution_count": null,
      "outputs": []
    }
  ],
  "metadata": {
    "colab": {
      "provenance": []
    },
    "kernelspec": {
      "display_name": "Python3 (ml)",
      "language": "python",
      "name": "ml"
    },
    "language_info": {
      "codemirror_mode": {
        "name": "ipython",
        "version": 3
      },
      "file_extension": ".py",
      "mimetype": "text/x-python",
      "name": "python",
      "nbconvert_exporter": "python",
      "pygments_lexer": "ipython3",
      "version": "3.7.0"
    }
  },
  "nbformat": 4,
  "nbformat_minor": 0
}